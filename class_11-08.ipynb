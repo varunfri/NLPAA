{
  "cells": [
    {
      "cell_type": "code",
      "source": [
        "import nltk\n",
        "nltk.download('punkt_tab')\n",
        "nltk.download('wordnet')\n",
        "nltk.download('stopwords')\n",
        "nltk.download('omw-1.4')\n",
        "nltk.download('punkt')\n"
      ],
      "metadata": {
        "id": "E_d9rufT3lDH",
        "outputId": "8e272880-1e22-40d0-ae83-e1dc961816bc",
        "colab": {
          "base_uri": "https://localhost:8080/"
        }
      },
      "id": "E_d9rufT3lDH",
      "execution_count": 10,
      "outputs": [
        {
          "output_type": "stream",
          "name": "stderr",
          "text": [
            "[nltk_data] Downloading package punkt_tab to /root/nltk_data...\n",
            "[nltk_data]   Package punkt_tab is already up-to-date!\n",
            "[nltk_data] Downloading package wordnet to /root/nltk_data...\n",
            "[nltk_data]   Package wordnet is already up-to-date!\n",
            "[nltk_data] Downloading package stopwords to /root/nltk_data...\n",
            "[nltk_data]   Unzipping corpora/stopwords.zip.\n",
            "[nltk_data] Downloading package omw-1.4 to /root/nltk_data...\n",
            "[nltk_data]   Package omw-1.4 is already up-to-date!\n",
            "[nltk_data] Downloading package punkt to /root/nltk_data...\n",
            "[nltk_data]   Package punkt is already up-to-date!\n"
          ]
        },
        {
          "output_type": "execute_result",
          "data": {
            "text/plain": [
              "True"
            ]
          },
          "metadata": {},
          "execution_count": 10
        }
      ]
    },
    {
      "cell_type": "code",
      "execution_count": 7,
      "id": "b348e2d0",
      "metadata": {
        "id": "b348e2d0"
      },
      "outputs": [],
      "source": [
        "import nltk\n",
        "from nltk.tokenize import word_tokenize\n",
        "from nltk.corpus import stopwords\n",
        "from nltk.stem  import WordNetLemmatizer\n",
        "import string\n"
      ]
    },
    {
      "cell_type": "code",
      "source": [
        "sentence = 'Natural Language Processing is Fun!'\n",
        "\n",
        "\n",
        "tokens = word_tokenize(sentence)\n",
        "\n",
        "print(tokens)"
      ],
      "metadata": {
        "id": "BAt4Z8QA3Ryh",
        "outputId": "a9c6fdee-0a1b-42d7-dea9-a6d092ae3337",
        "colab": {
          "base_uri": "https://localhost:8080/"
        }
      },
      "id": "BAt4Z8QA3Ryh",
      "execution_count": 11,
      "outputs": [
        {
          "output_type": "stream",
          "name": "stdout",
          "text": [
            "['Natural', 'Language', 'Processing', 'is', 'Fun', '!']\n"
          ]
        }
      ]
    },
    {
      "cell_type": "code",
      "source": [
        "# Normalized tokens\n",
        "normalized_tokens =   [word.lower() for word in tokens if word  not in string.punctuation]\n",
        "\n",
        "print(f\"Normalized Tokens : {normalized_tokens}\")"
      ],
      "metadata": {
        "id": "s3iTvBLL3_jQ",
        "outputId": "a62670f0-5fc8-4c9e-b491-e0697959ea32",
        "colab": {
          "base_uri": "https://localhost:8080/"
        }
      },
      "id": "s3iTvBLL3_jQ",
      "execution_count": 13,
      "outputs": [
        {
          "output_type": "stream",
          "name": "stdout",
          "text": [
            "Normalized Tokens : ['natural', 'language', 'processing', 'is', 'fun']\n"
          ]
        }
      ]
    },
    {
      "cell_type": "code",
      "source": [
        "# stop_word fillers\n"
      ],
      "metadata": {
        "id": "cFozPiMv4Vvw"
      },
      "id": "cFozPiMv4Vvw",
      "execution_count": null,
      "outputs": []
    }
  ],
  "metadata": {
    "kernelspec": {
      "display_name": "Python 3",
      "language": "python",
      "name": "python3"
    },
    "language_info": {
      "codemirror_mode": {
        "name": "ipython",
        "version": 3
      },
      "file_extension": ".py",
      "mimetype": "text/x-python",
      "name": "python",
      "nbconvert_exporter": "python",
      "pygments_lexer": "ipython3",
      "version": "3.11.9"
    },
    "colab": {
      "provenance": []
    }
  },
  "nbformat": 4,
  "nbformat_minor": 5
}